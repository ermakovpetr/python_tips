{
 "cells": [
  {
   "cell_type": "code",
   "execution_count": 1,
   "metadata": {},
   "outputs": [
    {
     "data": {
      "application/vnd.jupyter.widget-view+json": {
       "model_id": "5df03a1b6efa411eb3310bc1af2fcf73",
       "version_major": 2,
       "version_minor": 0
      },
      "text/plain": [
       "HBox(children=(IntProgress(value=0), HTML(value='')))"
      ]
     },
     "metadata": {},
     "output_type": "display_data"
    },
    {
     "name": "stdout",
     "output_type": "stream",
     "text": [
      "\n"
     ]
    }
   ],
   "source": [
    "from tqdm import tqdm_notebook\n",
    "\n",
    "def pow_2(n):\n",
    "    import time\n",
    "    sq_n = n ** 2\n",
    "    time.sleep(0.1) # slow function :)\n",
    "    return (n, sq_n)\n",
    "\n",
    "result = [pow_2(x) for x in tqdm_notebook(range(100))]"
   ]
  },
  {
   "cell_type": "code",
   "execution_count": 2,
   "metadata": {},
   "outputs": [
    {
     "data": {
      "application/vnd.jupyter.widget-view+json": {
       "model_id": "0cb7696560af447aad0087b5a9105e38",
       "version_major": 2,
       "version_minor": 0
      },
      "text/plain": [
       "HBox(children=(IntProgress(value=0), HTML(value='')))"
      ]
     },
     "metadata": {},
     "output_type": "display_data"
    },
    {
     "name": "stdout",
     "output_type": "stream",
     "text": [
      "\n"
     ]
    }
   ],
   "source": [
    "from multiprocessing import Pool\n",
    "from tqdm import tqdm_notebook\n",
    "\n",
    "def pow_2(n):\n",
    "    import time\n",
    "    sq_n = n ** 2\n",
    "    time.sleep(0.1) # slow function :)\n",
    "    return (n, sq_n)\n",
    "\n",
    "def imap_unordered_bar(func, args, n_jobs):\n",
    "    p = Pool(n_jobs)\n",
    "    res_list = [x for x in tqdm_notebook(\n",
    "        p.imap_unordered(func, args),\n",
    "        total=len(args)\n",
    "    )]\n",
    "    p.close()\n",
    "    p.join()\n",
    "    return res_list\n",
    "\n",
    "result = imap_unordered_bar(pow_2, range(100), n_jobs=10)"
   ]
  },
  {
   "cell_type": "code",
   "execution_count": 3,
   "metadata": {},
   "outputs": [
    {
     "data": {
      "text/plain": [
       "[(0, 0),\n",
       " (1, 1),\n",
       " (2, 4),\n",
       " (4, 16),\n",
       " (6, 36),\n",
       " (5, 25),\n",
       " (3, 9),\n",
       " (8, 64),\n",
       " (7, 49),\n",
       " (9, 81),\n",
       " (10, 100),\n",
       " (11, 121),\n",
       " (12, 144),\n",
       " (13, 169),\n",
       " (14, 196),\n",
       " (16, 256),\n",
       " (15, 225),\n",
       " (18, 324),\n",
       " (19, 361),\n",
       " (17, 289),\n",
       " (20, 400),\n",
       " (21, 441),\n",
       " (22, 484),\n",
       " (23, 529),\n",
       " (24, 576),\n",
       " (27, 729),\n",
       " (28, 784),\n",
       " (25, 625),\n",
       " (26, 676),\n",
       " (29, 841),\n",
       " (30, 900),\n",
       " (31, 961),\n",
       " (32, 1024),\n",
       " (33, 1089),\n",
       " (34, 1156),\n",
       " (36, 1296),\n",
       " (35, 1225),\n",
       " (37, 1369),\n",
       " (38, 1444),\n",
       " (39, 1521),\n",
       " (41, 1681),\n",
       " (42, 1764),\n",
       " (40, 1600),\n",
       " (43, 1849),\n",
       " (44, 1936),\n",
       " (45, 2025),\n",
       " (46, 2116),\n",
       " (47, 2209),\n",
       " (48, 2304),\n",
       " (49, 2401),\n",
       " (50, 2500),\n",
       " (52, 2704),\n",
       " (51, 2601),\n",
       " (53, 2809),\n",
       " (54, 2916),\n",
       " (56, 3136),\n",
       " (55, 3025),\n",
       " (57, 3249),\n",
       " (58, 3364),\n",
       " (59, 3481),\n",
       " (60, 3600),\n",
       " (61, 3721),\n",
       " (62, 3844),\n",
       " (63, 3969),\n",
       " (64, 4096),\n",
       " (65, 4225),\n",
       " (66, 4356),\n",
       " (67, 4489),\n",
       " (68, 4624),\n",
       " (69, 4761),\n",
       " (72, 5184),\n",
       " (70, 4900),\n",
       " (71, 5041),\n",
       " (73, 5329),\n",
       " (74, 5476),\n",
       " (75, 5625),\n",
       " (76, 5776),\n",
       " (77, 5929),\n",
       " (79, 6241),\n",
       " (78, 6084),\n",
       " (82, 6724),\n",
       " (81, 6561),\n",
       " (80, 6400),\n",
       " (83, 6889),\n",
       " (84, 7056),\n",
       " (85, 7225),\n",
       " (86, 7396),\n",
       " (87, 7569),\n",
       " (88, 7744),\n",
       " (89, 7921),\n",
       " (90, 8100),\n",
       " (91, 8281),\n",
       " (92, 8464),\n",
       " (93, 8649),\n",
       " (94, 8836),\n",
       " (95, 9025),\n",
       " (96, 9216),\n",
       " (97, 9409),\n",
       " (98, 9604),\n",
       " (99, 9801)]"
      ]
     },
     "execution_count": 3,
     "metadata": {},
     "output_type": "execute_result"
    }
   ],
   "source": [
    "result"
   ]
  }
 ],
 "metadata": {
  "kernelspec": {
   "display_name": "Python 3",
   "language": "python",
   "name": "python3"
  },
  "language_info": {
   "codemirror_mode": {
    "name": "ipython",
    "version": 3
   },
   "file_extension": ".py",
   "mimetype": "text/x-python",
   "name": "python",
   "nbconvert_exporter": "python",
   "pygments_lexer": "ipython3",
   "version": "3.6.5"
  }
 },
 "nbformat": 4,
 "nbformat_minor": 2
}
